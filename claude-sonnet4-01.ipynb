{
 "cells": [
  {
   "cell_type": "code",
   "execution_count": null,
   "id": "a338116a",
   "metadata": {},
   "outputs": [],
   "source": [
    "%pip install anthropic python-dotenv"
   ]
  },
  {
   "cell_type": "code",
   "execution_count": null,
   "id": "3d7925f0",
   "metadata": {},
   "outputs": [],
   "source": [
    "from dotenv import load_dotenv\n",
    "\n",
    "load_dotenv()"
   ]
  },
  {
   "cell_type": "code",
   "execution_count": 3,
   "id": "542f0964",
   "metadata": {},
   "outputs": [],
   "source": [
    "from anthropic import Anthropic\n",
    "\n",
    "client = Anthropic()\n",
    "model = \"claude-sonnet-4-0\""
   ]
  },
  {
   "cell_type": "code",
   "execution_count": 7,
   "id": "c6dc3aac",
   "metadata": {},
   "outputs": [
    {
     "data": {
      "text/plain": [
       "'\\nmessage = client.messages.create(\\n    model=model,\\n    max_tokens=1000,\\n    messages=[\\n        {\\n            \"role\":\"user\",\\n            \"content\": \"If you were not Claude Sonnet, what would you rather be?\"\\n\\n        }\\n    ]\\n)\\n'"
      ]
     },
     "execution_count": 7,
     "metadata": {},
     "output_type": "execute_result"
    }
   ],
   "source": [
    "def add_user_message(messages, text):\n",
    "    user_message = {\"role\": \"user\", \"content\": text}\n",
    "    messages.append(user_message)\n",
    "\n",
    "def add_assistant_message(messages, text):\n",
    "    assistant_message = {\"role\": \"assistant\", \"content\": text}\n",
    "    messages.append(assistant_message)\n",
    "\n",
    "def chat(messages):\n",
    "    message = client.messages.create(\n",
    "        model=model,\n",
    "        max_tokens=1000,\n",
    "        messages=messages,\n",
    "    )\n",
    "    return message.content[0].text\n",
    "\n",
    "\"\"\"\n",
    "message = client.messages.create(\n",
    "    model=model,\n",
    "    max_tokens=1000,\n",
    "    messages=[\n",
    "        {\n",
    "            \"role\":\"user\",\n",
    "            \"content\": \"If you were not Claude Sonnet, what would you rather be?\"\n",
    "\n",
    "        }\n",
    "    ]\n",
    ")\n",
    "\"\"\""
   ]
  },
  {
   "cell_type": "code",
   "execution_count": null,
   "id": "504d6fa4",
   "metadata": {},
   "outputs": [
    {
     "data": {
      "text/plain": [
       "'Oh, that\\'s a fun twist! If I had to be a dinosaur, I think I\\'d want to be a Therizinosaurus - those fascinating giant herbivores with enormous claws that looked terrifying but were actually just really good at reaching high branches and stripping leaves.\\n\\nThere\\'s something appealing about being this paradoxical creature that looks fierce but is actually gentle, and spending my days thoughtfully foraging and processing plant matter. Plus they were huge - like 16 feet tall - so I\\'d have a great view of the world and could reach the best foliage.\\n\\nOr maybe a Parasaurolophus with their beautiful hollow crests that could make musical sounds. I like the idea of being able to communicate across long distances with those haunting calls echoing through ancient valleys.\\n\\nBoth seem like they\\'d involve a kind of mindful, contemplative existence - whether carefully selecting the best plants to eat or creating music with my fellow dinosaurs. Much more my speed than being a fierce predator!\\n\\nWhat dinosaur do you think you\\'d want to be? Are you more of a \"rule the food chain\" type or a \"peaceful herbivore\" type?'"
      ]
     },
     "execution_count": 8,
     "metadata": {},
     "output_type": "execute_result"
    }
   ],
   "source": [
    "messages = []\n",
    "\n",
    "add_user_message(messages, \"If you were not Claude Sonnet, what would you rather be?\")\n",
    "\n",
    "answer = chat(messages)\n",
    "\n",
    "add_assistant_message(messages, answer)\n",
    "\n",
    "add_user_message(messages, \"What if you had to be a dinosaur?\")\n",
    "\n",
    "answer = chat(messages)\n",
    "answer"
   ]
  },
  {
   "cell_type": "markdown",
   "id": "1dcb4f20",
   "metadata": {},
   "source": [
    "'Oh, that\\'s a fun twist! If I had to be a dinosaur, I think I\\'d want to be a Therizinosaurus - those fascinating giant herbivores with enormous claws that looked terrifying but were actually just really good at reaching high branches and stripping leaves.\\n\\nThere\\'s something appealing about being this paradoxical creature that looks fierce but is actually gentle, and spending my days thoughtfully foraging and processing plant matter. Plus they were huge - like 16 feet tall - so I\\'d have a great view of the world and could reach the best foliage.\\n\\nOr maybe a Parasaurolophus with their beautiful hollow crests that could make musical sounds. I like the idea of being able to communicate across long distances with those haunting calls echoing through ancient valleys.\\n\\nBoth seem like they\\'d involve a kind of mindful, contemplative existence - whether carefully selecting the best plants to eat or creating music with my fellow dinosaurs. Much more my speed than being a fierce predator!\\n\\nWhat dinosaur do you think you\\'d want to be? Are you more of a \"rule the food chain\" type or a \"peaceful herbivore\" type?'"
   ]
  }
 ],
 "metadata": {
  "kernelspec": {
   "display_name": "Python 3",
   "language": "python",
   "name": "python3"
  },
  "language_info": {
   "codemirror_mode": {
    "name": "ipython",
    "version": 3
   },
   "file_extension": ".py",
   "mimetype": "text/x-python",
   "name": "python",
   "nbconvert_exporter": "python",
   "pygments_lexer": "ipython3",
   "version": "3.13.5"
  }
 },
 "nbformat": 4,
 "nbformat_minor": 5
}
